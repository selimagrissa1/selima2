{
 "cells": [
  {
   "cell_type": "markdown",
   "id": "42e18019",
   "metadata": {},
   "source": [
    "Q1"
   ]
  },
  {
   "cell_type": "code",
   "execution_count": 19,
   "id": "e947db5e",
   "metadata": {},
   "outputs": [
    {
     "name": "stdout",
     "output_type": "stream",
     "text": [
      "36\n"
     ]
    }
   ],
   "source": [
    "list=[2,3,6]\n",
    "print(list[0]*list[1]*list[2])"
   ]
  },
  {
   "cell_type": "code",
   "execution_count": 20,
   "id": "ea60b7b3",
   "metadata": {},
   "outputs": [
    {
     "name": "stdout",
     "output_type": "stream",
     "text": [
      "Enter number of elements : 3\n",
      "donner un 2\n",
      "donner un 2\n",
      "donner un 01\n",
      "[2, 2, 1]\n",
      "4\n",
      "4\n"
     ]
    }
   ],
   "source": [
    "s=[]\n",
    "n = int(input(\"Enter number of elements : \"))\n",
    "for i in range(0,n):\n",
    "    x=int(input(\"donner un \"))\n",
    "    s.append(x)\n",
    "print(s)\n",
    "for x in range (i):\n",
    "    l=0\n",
    "    l=s[0]*s[1]*s[2]\n",
    "    print (l)"
   ]
  },
  {
   "cell_type": "markdown",
   "id": "51d3eccc",
   "metadata": {},
   "source": [
    "Q2"
   ]
  },
  {
   "cell_type": "code",
   "execution_count": 13,
   "id": "fec78786",
   "metadata": {},
   "outputs": [
    {
     "name": "stdout",
     "output_type": "stream",
     "text": [
      "(2, 1, 2, 3, 4, 4, 1, 2, 2, 5)\n"
     ]
    }
   ],
   "source": [
    "s=[(2,5),(1,2),(4,4),(2,3),(2,1)]\n",
    "print(s[-1]+s[-2]+s[2]+s[1]+s[0])"
   ]
  },
  {
   "cell_type": "markdown",
   "id": "04989b30",
   "metadata": {},
   "source": [
    "Q3"
   ]
  },
  {
   "cell_type": "code",
   "execution_count": 15,
   "id": "e8f90dd0",
   "metadata": {},
   "outputs": [
    {
     "name": "stdout",
     "output_type": "stream",
     "text": [
      "{'a': 400, 'b': 400, 'c': 300, 'd': 400}\n"
     ]
    }
   ],
   "source": [
    "d1 = {'a': 100, 'b': 200, 'c':300}\n",
    "d2 = {'a': 300, 'b': 200, 'd':400}\n",
    "d3 = {}\n",
    "for i, j in d1.items():\n",
    "    for x, y in d2.items():\n",
    "        if i == x:\n",
    "            d3[i]=(j+y)\n",
    "else: \n",
    "    d3[i]=(j)\n",
    "    d3[x]=(y)\n",
    "    print(d3) "
   ]
  },
  {
   "cell_type": "markdown",
   "id": "a9098f06",
   "metadata": {},
   "source": [
    "Q4"
   ]
  },
  {
   "cell_type": "code",
   "execution_count": null,
   "id": "8a715847",
   "metadata": {},
   "outputs": [],
   "source": [
    "s={}\n",
    "n=int(input(\"donner n\"))\n",
    "for i in range (1,n+1) :\n",
    "    s[i]=i*i\n",
    "print (s)"
   ]
  },
  {
   "cell_type": "markdown",
   "id": "6e66fc5b",
   "metadata": {},
   "source": [
    "Q5"
   ]
  },
  {
   "cell_type": "code",
   "execution_count": 18,
   "id": "7020413c",
   "metadata": {},
   "outputs": [
    {
     "name": "stdout",
     "output_type": "stream",
     "text": [
      "('item3', '24.5', 'item2', '15.10', 'item1', '12.20')\n"
     ]
    }
   ],
   "source": [
    "s= [('item1', '12.20'), ('item2', '15.10'), ('item3', '24.5')]\n",
    "print (s[-1]+s[1]+s[0])"
   ]
  }
 ],
 "metadata": {
  "kernelspec": {
   "display_name": "Python 3",
   "language": "python",
   "name": "python3"
  },
  "language_info": {
   "codemirror_mode": {
    "name": "ipython",
    "version": 3
   },
   "file_extension": ".py",
   "mimetype": "text/x-python",
   "name": "python",
   "nbconvert_exporter": "python",
   "pygments_lexer": "ipython3",
   "version": "3.8.8"
  }
 },
 "nbformat": 4,
 "nbformat_minor": 5
}
